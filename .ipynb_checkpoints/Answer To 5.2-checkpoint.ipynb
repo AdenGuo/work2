{
 "cells": [
  {
   "cell_type": "markdown",
   "metadata": {},
   "source": [
    "In this answer, three models have been build by using given data to predict hourly entries in NYC subways .\n",
    "\n",
    "The first model is a simple linear regression model.\n",
    "\n",
    "The second one is a two-level regression model.\n",
    "\n",
    "The third one is a nonparametric model."
   ]
  },
  {
   "cell_type": "markdown",
   "metadata": {},
   "source": []
  }
 ],
 "metadata": {
  "kernelspec": {
   "display_name": "Python 2",
   "language": "python",
   "name": "python2"
  },
  "language_info": {
   "codemirror_mode": {
    "name": "ipython",
    "version": 2
   },
   "file_extension": ".py",
   "mimetype": "text/x-python",
   "name": "python",
   "nbconvert_exporter": "python",
   "pygments_lexer": "ipython2",
   "version": "2.7.9"
  }
 },
 "nbformat": 4,
 "nbformat_minor": 0
}

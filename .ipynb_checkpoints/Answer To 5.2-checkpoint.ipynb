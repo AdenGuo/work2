{
 "cells": [
  {
   "cell_type": "markdown",
   "metadata": {},
   "source": [
    "In this answer, three models have been build by using given data to predict hourly entries in NYC subways .\n",
    "\n",
    "The first model is a simple linear regression model.\n",
    "\n",
    "The second one is a two-level regression model.\n",
    "\n",
    "The third one is a nonparametric model."
   ]
  },
  {
   "cell_type": "markdown",
   "metadata": {},
   "source": [
    "This article is divided into 5 parts.\n",
    "\n",
    "1, Some observations and thoughts from data.\n",
    "\n",
    "2, General principles of models.\n",
    "\n",
    "3, Three models.\n",
    "\n",
    "4, Summary.\n",
    "\n",
    "5, Possible further improvements."
   ]
  },
  {
   "cell_type": "markdown",
   "metadata": {},
   "source": [
    "##Some observtions and thoughts from data"
   ]
  },
  {
   "cell_type": "markdown",
   "metadata": {},
   "source": [
    "The dataset is about ridership of NYC subways. Here is a typical record in the dataset."
   ]
  },
  {
   "cell_type": "code",
   "execution_count": 5,
   "metadata": {
    "collapsed": false
   },
   "outputs": [
    {
     "name": "stdout",
     "output_type": "stream",
     "text": [
      "Unnamed: 0                  0\n",
      "UNIT                     R001\n",
      "DATEn              2011-05-01\n",
      "TIMEn                01:00:00\n",
      "Hour                        1\n",
      "DESCn                 REGULAR\n",
      "ENTRIESn_hourly             0\n",
      "EXITSn_hourly               0\n",
      "maxpressurei            30.31\n",
      "maxdewpti                  42\n",
      "mindewpti                  35\n",
      "minpressurei            30.23\n",
      "meandewpti                 39\n",
      "meanpressurei           30.27\n",
      "fog                         0\n",
      "rain                        0\n",
      "meanwindspdi                5\n",
      "mintempi                   50\n",
      "meantempi                  60\n",
      "maxtempi                   69\n",
      "precipi                     0\n",
      "thunder                     0\n",
      "Name: 0, dtype: object\n"
     ]
    }
   ],
   "source": [
    "from linear_models import load_data\n",
    "dataframe = load_data()\n",
    "print dataframe.iloc[0]"
   ]
  },
  {
   "cell_type": "markdown",
   "metadata": {},
   "source": [
    "Following is the meaning of various data fields in this record."
   ]
  },
  {
   "cell_type": "markdown",
   "metadata": {},
   "source": [
    "Unnamed: 0: Meaningless.\n",
    "\n",
    "UNIT: Remote unit that collects turnstile information. Can collect from multiple banks of turnstiles. \n",
    "Large subway stations can have more than one unit. \n",
    "\n",
    "DATEn: Date in “yyyy-mm-dd” (2011-05-21) format. \n",
    "\n",
    "TIMEn: Time in “hh:mm:ss” (08:05:02) format. \n",
    "\n",
    "hour: Hour of the timestamp from TIMEn. Truncated rather than rounded. \n",
    "\n",
    "DEScn: Represent the \"REGULAR\" scheduled audit event (occurs every 4 hours).\n",
    "\n",
    "ENTRIESn_hourly: Difference in ENTRIES from the previous REGULAR reading. \n",
    "\n",
    "EXITSn_hourly: Difference in EXITS from the previous REGULAR reading.\n",
    "\n",
    "maxpressurei: Maximum pressure in inHg.\n",
    "\n",
    "maxdewpti: Maximum dewpoint in F.\n",
    "\n",
    "mindewpti: Minimum dewpoint in F.\n",
    "\n",
    "minpressurei: Minimum pressure in inHg.\n",
    "\n",
    "meandewpti: Mean dewpoint in F.\n",
    "\n",
    "meanpressurei: Mean pressure in inHg.\n",
    "\n",
    "fog: Indication of appearance of fog.\n",
    "\n",
    "rain: Indication of appearance of rain.\n",
    "\n",
    "meanwindspdi: Mean windspeed in mph.\n",
    "\n",
    "mintempi: Minimum temperature in F.\n",
    "\n",
    "meantempi: Mean temperature in F.\n",
    "\n",
    "maxtempi: Maximum temperature in F.\n",
    "\n",
    "precipi: Precipitation in inches.\n",
    "\n",
    "thunder: Indication of appearance of thunder."
   ]
  },
  {
   "cell_type": "markdown",
   "metadata": {},
   "source": [
    "A model should be build based on the dataset. In this model the date item \"ENTRIESn_hourly\" is the value to be predicted. This is the output of the model. The other items which represent date, time and weather conditions are the values used to predict \"ENTRIESn_hourly\". These are inputs of the model. These inputs are also called features. The center task of model is using features to calculate output. "
   ]
  },
  {
   "cell_type": "markdown",
   "metadata": {},
   "source": [
    "Since this task is to predict numerical values. The simplest model is by unifying some features into a simple linear models. The simple linear model have following form."
   ]
  },
  {
   "cell_type": "markdown",
   "metadata": {},
   "source": [
    "\\begin{equation*}\n",
    "y=\\beta_1*x_1+\\beta_2*x_2+...+\\beta_k*x_k+\\epsilon\n",
    "\\end{equation*}"
   ]
  },
  {
   "cell_type": "markdown",
   "metadata": {
    "collapsed": true
   },
   "source": [
    "$y$ is the output. $x_1, x_2...x_k$ are the values of features. $\\beta_1, \\beta_2...\\beta_k$are so called weights or coefficients which will be determined by training process. $\\epsilon$ is the estimated error."
   ]
  },
  {
   "cell_type": "markdown",
   "metadata": {},
   "source": [
    "Assumptions are made by utlizing this simple linear model. One important assumption is independence of features. That is the change of one feature will not effect other features. However, some observations may indicate that the features may be dependent on each other. Here is the form that show some correlation between feature \"rain\" and fearure \"hour\" in a particular turnstile. The values in the form is the average \"hourly_entries\" given the \"rain\" and \"hour\"."
   ]
  },
  {
   "cell_type": "code",
   "execution_count": 6,
   "metadata": {
    "collapsed": false
   },
   "outputs": [
    {
     "name": "stdout",
     "output_type": "stream",
     "text": [
      "              no_rain    rain\n",
      "17:00:00  5734.750000  5259.2\n",
      "13:00:00  6423.850000  6538.6\n",
      "09:00:00  4340.736842  4554.5\n",
      "01:00:00  1990.263158  1711.6\n",
      "21:00:00  4644.157895  4900.4\n"
     ]
    }
   ],
   "source": [
    "from observations import rain_correlated_time\n",
    "unit_number = 1\n",
    "time_number = 5\n",
    "print rain_correlated_time(unit_number, time_number)"
   ]
  },
  {
   "cell_type": "markdown",
   "metadata": {},
   "source": [
    "As we can see, for some \"hour\", the average \"hourly_entries\" is higher when \"rain\" is 1. And for other, the average \"hourly_entries\" is lower. This observation shows that the feature \"rain\" is dependent on the feature \"hour\". This observation is intuitive. When it is raining(corresponding to feature \"rain\") in mid-night(corresponding to feature \"hour\"), the ridership of subway may not be affected by rain. And if it was raining in rush hour, more people may take subway to work because the traffic on the road may become terrible in rainy days. These thoughts on causation may not be accurate. The center idea is features are not independent. A model with consideration of correlation should be build. Here is a typical formula of two-level regression."
   ]
  },
  {
   "cell_type": "markdown",
   "metadata": {},
   "source": [
    "\\begin{align*}\n",
    "&y=\\beta_1(u_1,u_2...u_l)*x_1+\\beta_2(u_1,u_2...u_l)*x_2+...+\\beta_k(u_1,u_2...u_l)*x_k+\\epsilon \\\\\n",
    "&\\beta_1(u_1,u_2...u_l) = f_1(u_1,u_2...u_l) \\\\\n",
    "&\\beta_2(u_1,u_2...u_l) = f_2(u_1,u_2...u_l) \\\\\n",
    "&... \\\\\n",
    "&\\beta_k(u_1,u_2...u_l) = f_k(u_1,u_2...u_l)\n",
    "\\end{align*}"
   ]
  },
  {
   "cell_type": "markdown",
   "metadata": {},
   "source": [
    "$y$ is the output. $x_1, x_2...x_k$ are the values of level-two features. $\\beta_1(u_1,u_2...u_l), \\beta_2(u_1,u_2...u_l)...\\beta_k(u_1,u_2...u_l)$are so called coefficients functions which will be determined by  model and training process. $\\epsilon$ is the estimated error. $u_1, u_2...u_l$ are values of level-one features."
   ]
  },
  {
   "cell_type": "markdown",
   "metadata": {},
   "source": [
    "Furthermore, when people talked about crowdedness of the subways. They may say, there are a lot people in this station 5:00 pm yestoday and a lot people will be in this station at the same time. Following figures show ridership in different days at and in one particular station."
   ]
  },
  {
   "cell_type": "code",
   "execution_count": 7,
   "metadata": {
    "collapsed": false
   },
   "outputs": [
    {
     "name": "stdout",
     "output_type": "stream",
     "text": [
      "Populating the interactive namespace from numpy and matplotlib\n"
     ]
    },
    {
     "name": "stderr",
     "output_type": "stream",
     "text": [
      "WARNING: pylab import has clobbered these variables: ['random']\n",
      "`%matplotlib` prevents importing * from pylab and numpy\n"
     ]
    },
    {
     "data": {
      "image/png": "[encoded data removed]",
      "text/plain": [
       "<matplotlib.figure.Figure at 0x7f9aec992850>"
      ]
     },
     "metadata": {},
     "output_type": "display_data"
    },
    {
     "data": {
      "text/plain": [
       "<module 'matplotlib.pyplot' from '/home/adenguo/anaconda/lib/python2.7/site-packages/matplotlib/pyplot.pyc'>"
      ]
     },
     "execution_count": 7,
     "metadata": {},
     "output_type": "execute_result"
    }
   ],
   "source": [
    "%pylab inline\n",
    "from observations import plot_daily_data\n",
    "import observations\n",
    "unit_number = 1\n",
    "plot_daily_data(unit_number)"
   ]
  },
  {
   "cell_type": "markdown",
   "metadata": {},
   "source": [
    "As the picture reveals, the ridership is periodical. The similar amount of hourly entries will appear repeatedly based on same time of different days. This provide the philosophy of non-parametric model. The general formula of non-parametric model is as following."
   ]
  },
  {
   "cell_type": "markdown",
   "metadata": {},
   "source": [
    "\\begin{equation*}\n",
    "y=f(D_1, D_2,...D_n)\n",
    "\\end{equation*}"
   ]
  },
  {
   "cell_type": "markdown",
   "metadata": {},
   "source": [
    "$y$ is the output. $D_1, D_2, ...D_n$ are records from dataset. $f()$ is a general form of function."
   ]
  },
  {
   "cell_type": "markdown",
   "metadata": {},
   "source": [
    "##General principles of model constructions"
   ]
  },
  {
   "cell_type": "markdown",
   "metadata": {},
   "source": [
    "First, the features are the same for three models. I select following features as input of models. \n",
    "\n",
    "'unit'(I translated this variable into a dummy variable indicating if a record belongs to a specific turnstile in linear model and two-level regression model)\n",
    "\n",
    "'hour'(I translate this variable to 'dec_time')\n",
    "\n",
    "'meantempi'\n",
    "\n",
    "'rain'\n",
    "\n",
    "'meanwindspdi'\n",
    "\n",
    "'precipi'\n",
    "\n",
    "'DATEn'(I translated this variable to 'weeksday' which represent Sunday, Monday and etc. in a numerical way and 'is_weekend' which using bool value represent if it is a weekend.)    \n",
    "\n",
    "However, these features play different roles in three models.\n",
    "\n",
    "I also translate the output 'ENTRIESn_hourly' into 'hourly_entries' in implementation of three models."
   ]
  },
  {
   "cell_type": "markdown",
   "metadata": {},
   "source": [
    "Second, the whole dataset is split into training and test dataset. Three model are all trained based on same training data and evaluated on test data. Two measurements for models are used which are sum squared error(SSE) and R-square(R2) value. The split of dataset were done for ten times. And each model is trained and evaluated for ten times. "
   ]
  },
  {
   "cell_type": "markdown",
   "metadata": {},
   "source": [
    "##Three models "
   ]
  },
  {
   "cell_type": "markdown",
   "metadata": {},
   "source": [
    "###Simple linear model"
   ]
  },
  {
   "cell_type": "markdown",
   "metadata": {},
   "source": [
    "Features : the model was built as a conventional linear model. Intercept is included in this model. These features of the model are dummy variables for 'unit'(total 465 variables), 'dec_time', 'meantempi', 'rain', 'meanwindspdi', 'precipi' and 'is_weekend'."
   ]
  },
  {
   "cell_type": "markdown",
   "metadata": {},
   "source": [
    "Training: the model is trained using ordinary least squares(OLS) implemented in statsmodels package. "
   ]
  },
  {
   "cell_type": "markdown",
   "metadata": {},
   "source": [
    "Predicting: Values of the record are directly used to evaluate the number of hourly entries in the linear regression function. And a little non-linearity is done on the predicted value. If the predicted value is small than zero. It is set to zero."
   ]
  },
  {
   "cell_type": "markdown",
   "metadata": {},
   "source": [
    "Following is the training and evaluating process."
   ]
  },
  {
   "cell_type": "code",
   "execution_count": 8,
   "metadata": {
    "collapsed": false
   },
   "outputs": [
    {
     "name": "stdout",
     "output_type": "stream",
     "text": [
      "SSE is 40161141139.4\n",
      "R2 is 0.492777531908\n"
     ]
    }
   ],
   "source": [
    "from linear_models import *\n",
    "\n",
    "#Set time_intervals for a simple linear model\n",
    "time_intervals = [(0,23.999,weeks_day)]\n",
    "\n",
    "#features will be used in linear models\n",
    "features_list = ['rain','meantempi', 'dec_time','meanwindspdi','precipi', 'is_weekend']\n",
    "\n",
    "#Phase 1, preprocessing and save result. \n",
    "dataframe = load_data()\n",
    "new_dataframe = create_new_dateframe_0(dataframe)\n",
    "new_dataframe = add_datetime_str(new_dataframe)\n",
    "new_dataframe = add_dec_time(new_dataframe)\n",
    "new_dataframe = add_weeksday(new_dataframe)\n",
    "new_dataframe = add_is_weekend(new_dataframe)\n",
    "new_dataframe, dummy_unit_list = add_dummy_unit(new_dataframe)\n",
    "features_list.extend(dummy_unit_list)\n",
    "write_features_to_file(features_list, '../features_list')\n",
    "new_dataframe.to_csv('../new_weather_turnstile.csv')\n",
    "dataframe = pandas.read_csv('../new_weather_turnstile.csv')\n",
    "from sklearn.cross_validation import train_test_split\n",
    "test_propotion = 0.1\n",
    "train_new_weather_turnstile, test_new_weather_turnstile = \\\n",
    "train_test_split(dataframe, test_size = test_propotion)\n",
    "train_new_weather_turnstile.to_csv('../train_new_weather_turnstile.csv')\n",
    "test_new_weather_turnstile.to_csv('../test_new_weather_turnstile.csv')\n",
    "\n",
    "#Phase 2, building model and save result\n",
    "features_list = read_features_from_file('../features_list')\n",
    "dataframe = pandas.read_csv('../train_new_weather_turnstile.csv')\n",
    "coeff_matrix = create_coeff_matrix(features_list, time_intervals, dataframe)\n",
    "coeff_matrix.to_csv('../coeff_matrix.csv')\n",
    "\n",
    "#Phase 3, Test and evaluating\n",
    "features_list = read_features_from_file('../features_list')\n",
    "coeff_matrix = pandas.read_csv('../coeff_matrix.csv')\n",
    "test_dataframe = pandas.read_csv('../test_new_weather_turnstile.csv')\n",
    "predictions = make_predictions_dataframe(test_dataframe, time_intervals,\\\n",
    "                                         features_list, coeff_matrix)\n",
    "sum_square_complex = compute_sum_square(test_dataframe['hourly_entries'], predictions)\n",
    "r_square_complex = compute_r_squared(test_dataframe['hourly_entries'], predictions)\n",
    "\n",
    "print \"SSE is \"+ str(sum_square_complex)\n",
    "print \"R2 is \"+ str(r_square_complex)\n"
   ]
  },
  {
   "cell_type": "markdown",
   "metadata": {},
   "source": [
    "On this calculation, the SSE is 38615772513.4 and R2 is 0.467863803062. "
   ]
  },
  {
   "cell_type": "markdown",
   "metadata": {},
   "source": [
    "Complexity: computational complexity is evaluated on predicting process. The time of predicting a record is O(1) which is constant time for evaluating."
   ]
  },
  {
   "cell_type": "markdown",
   "metadata": {},
   "source": [
    "###Two level regression model"
   ]
  },
  {
   "cell_type": "markdown",
   "metadata": {},
   "source": [
    "Features : the features are grouped into two level. Coefficients of level two features are functions of level one features (see the formula above). Level two features are 'unit'(total 465 variables), 'dec_time', 'meantempi', 'rain', 'meanwindspdi' and 'precipi'. Level one features are 'dec_time' and 'weeksday'. It is worth noting that 'dec_time' is both level one and level two feature. I think that this variable is correlated with itselves."
   ]
  },
  {
   "cell_type": "markdown",
   "metadata": {},
   "source": [
    "Training: the level-one features are divided into intervals such as 00:00 to 05:00 in weeksday and 13:00 to 16:00 in weekend. And the training data are filtered by these intervals. Each interval will be corresponding to a subset of data. Then a linear regression model with level two features was training based on each of these subsets. every model is trained using ordinary least squares(OLS) implemented in statsmodels package. "
   ]
  },
  {
   "cell_type": "markdown",
   "metadata": {},
   "source": [
    "Predicting: The predicting is a two-step process. First step is choosing which group of coefficients to use based on level one features. Second step is computing number of hourly entries based on chosen coefficients and level two features. Also, a little non-linearity is done on the predicted value. If the predicted value is small than zero. It is set to zero."
   ]
  },
  {
   "cell_type": "markdown",
   "metadata": {},
   "source": [
    "Following is the training and evaluating process."
   ]
  },
  {
   "cell_type": "code",
   "execution_count": 9,
   "metadata": {
    "collapsed": false
   },
   "outputs": [
    {
     "name": "stdout",
     "output_type": "stream",
     "text": [
      "SSE is 12216177511.5\n",
      "R2 is 0.837844779438\n"
     ]
    }
   ],
   "source": [
    "from linear_models import *\n",
    "\n",
    "#Set time_intervals for a simple linear model\n",
    "time_intervals = [(0,4,works_day), (4,8,works_day), (8,12,works_day), \\\n",
    "                  (12,16,works_day), (16,20,works_day), (20,23.999,works_day),\\\n",
    "                  (0,4,weekend), (4,8,weekend), (8,12,weekend), \\\n",
    "                  (12,16,weekend), (16,20,weekend), (20,23.999,weekend)]\n",
    "\n",
    "#features will be used in linear models\n",
    "features_list = ['rain','meantempi', 'dec_time','meanwindspdi','precipi']\n",
    "\n",
    "#Phase 1, preprocessing and save result. \n",
    "dataframe = load_data()\n",
    "new_dataframe = create_new_dateframe_0(dataframe)\n",
    "new_dataframe = add_datetime_str(new_dataframe)\n",
    "new_dataframe = add_dec_time(new_dataframe)\n",
    "new_dataframe = add_weeksday(new_dataframe)\n",
    "new_dataframe = add_is_weekend(new_dataframe)\n",
    "new_dataframe, dummy_unit_list = add_dummy_unit(new_dataframe)\n",
    "features_list.extend(dummy_unit_list)\n",
    "write_features_to_file(features_list, '../features_list')\n",
    "new_dataframe.to_csv('../new_weather_turnstile.csv')\n",
    "dataframe = pandas.read_csv('../new_weather_turnstile.csv')\n",
    "from sklearn.cross_validation import train_test_split\n",
    "test_propotion = 0.1\n",
    "train_new_weather_turnstile, test_new_weather_turnstile = \\\n",
    "train_test_split(dataframe, test_size = test_propotion)\n",
    "train_new_weather_turnstile.to_csv('../train_new_weather_turnstile.csv')\n",
    "test_new_weather_turnstile.to_csv('../test_new_weather_turnstile.csv')\n",
    "\n",
    "#Phase 2, building model and save result\n",
    "features_list = read_features_from_file('../features_list')\n",
    "dataframe = pandas.read_csv('../train_new_weather_turnstile.csv')\n",
    "coeff_matrix = create_coeff_matrix(features_list, time_intervals, dataframe)\n",
    "coeff_matrix.to_csv('../coeff_matrix.csv')\n",
    "\n",
    "#Phase 3, Test and evaluating\n",
    "features_list = read_features_from_file('../features_list')\n",
    "coeff_matrix = pandas.read_csv('../coeff_matrix.csv')\n",
    "test_dataframe = pandas.read_csv('../test_new_weather_turnstile.csv')\n",
    "predictions = make_predictions_dataframe(test_dataframe, time_intervals,\\\n",
    "                                         features_list, coeff_matrix)\n",
    "sum_square_complex = compute_sum_square(test_dataframe['hourly_entries'], predictions)\n",
    "r_square_complex = compute_r_squared(test_dataframe['hourly_entries'], predictions)\n",
    "\n",
    "print \"SSE is \"+ str(sum_square_complex)\n",
    "print \"R2 is \"+ str(r_square_complex)"
   ]
  },
  {
   "cell_type": "markdown",
   "metadata": {},
   "source": [
    "On this calculation, the SSE is 11897041343.3 and R2 is 0.837420573143. "
   ]
  },
  {
   "cell_type": "markdown",
   "metadata": {},
   "source": [
    "Complexity: computational complexity is evaluated on predicting process. The time of predicting a record is O(1) which is constant. This constant time is a little longer than that of simple linear model. But I think the difference can be safely neglected. "
   ]
  },
  {
   "cell_type": "markdown",
   "metadata": {},
   "source": [
    "###Non-parametric model"
   ]
  },
  {
   "cell_type": "markdown",
   "metadata": {},
   "source": [
    "Features: Features for non-parametric model are 'unit', 'dec_time', 'meantempi', 'rain', 'meanwindspdi', 'precipi' and 'is_weekend'."
   ]
  },
  {
   "cell_type": "markdown",
   "metadata": {},
   "source": [
    "Training and predicting: Features are divided into two groups. One is categorical features and the other is numerical features. A subset of data is created by selecting records whose categorical feature are identical to the record(unknown record) which is under predicting. The weighted euclidean distances between unknown record and every record in the subset are calculated based on numerical features. k records with smallest distance are selected. The number of hourly entries are average of hourly entries of these k record."
   ]
  },
  {
   "cell_type": "markdown",
   "metadata": {},
   "source": [
    "Following is the training and evaluating process."
   ]
  },
  {
   "cell_type": "code",
   "execution_count": 10,
   "metadata": {
    "collapsed": false
   },
   "outputs": [
    {
     "name": "stdout",
     "output_type": "stream",
     "text": [
      "SSE is 19987489701.5\n",
      "R2 is 0.704486292628\n"
     ]
    }
   ],
   "source": [
    "from nonparametric_model import *\n",
    "\n",
    "\n",
    "#Set features for nonparametric model\n",
    "numeric_features_list_with_weight = [('meantempi',1), ('dec_time',2), \\\n",
    "                                     ('meanwindspdi',1),('precipi',1)]\n",
    "categorical_features = ['unit', 'rain', 'is_weekend']\n",
    "delta = 2\n",
    "k = 10\n",
    "\n",
    "#Phase 1, preprocessing and save result. \n",
    "dataframe = load_data()\n",
    "new_dataframe = create_new_dateframe_0(dataframe)\n",
    "new_dataframe = add_datetime_str(new_dataframe)\n",
    "new_dataframe = add_dec_time(new_dataframe)\n",
    "new_dataframe = add_weeksday(new_dataframe)\n",
    "new_dataframe = add_is_weekend(new_dataframe)\n",
    "write_features_with_weight_to_file(numeric_features_list_with_weight, \\\n",
    "                                   '../numeric_features_list_weight')\n",
    "write_features_to_file(categorical_features, '../categorical_features')\n",
    "new_dataframe.to_csv('../new_weather_turnstile.csv')\n",
    "dataframe = pandas.read_csv('../new_weather_turnstile.csv')\n",
    "from sklearn.cross_validation import train_test_split\n",
    "test_propotion = 0.1\n",
    "train_new_weather_turnstile, test_new_weather_turnstile = \\\n",
    "train_test_split(dataframe, test_size = test_propotion)\n",
    "train_new_weather_turnstile.to_csv('../train_new_weather_turnstile.csv')\n",
    "test_new_weather_turnstile.to_csv('../test_new_weather_turnstile.csv')\n",
    "\n",
    "#Phase 2, predicting and evaluating\n",
    "numeric_features_list_with_weight = read_features_with_weight_from_file \\\n",
    "                                    ('../numeric_features_list_weight')\n",
    "categorical_features = read_features_from_file('../categorical_features')\n",
    "dataframe = pandas.read_csv('../train_new_weather_turnstile.csv')\n",
    "test_dataframe = pandas.read_csv('../test_new_weather_turnstile.csv')\n",
    "\n",
    "predictions = prediction_dataframe(test_dataframe, dataframe,\\\n",
    "                                   categorical_features, \\\n",
    "                                   numeric_features_list_with_weight,\\\n",
    "                                   k, delta)\n",
    "sum_square_complex = compute_sum_square(test_dataframe['hourly_entries'], predictions)\n",
    "r_square_complex = compute_r_squared(test_dataframe['hourly_entries'], predictions)\n",
    "\n",
    "print \"SSE is \"+ str(sum_square_complex)\n",
    "print \"R2 is \"+ str(r_square_complex)"
   ]
  },
  {
   "cell_type": "markdown",
   "metadata": {},
   "source": [
    "On this calculation, the SSE is 19062584953.9 and R2 is 0.712359529701. "
   ]
  },
  {
   "cell_type": "markdown",
   "metadata": {},
   "source": [
    "Complexity: computational complexity is evaluated on predicting process. The time of predicting a record is O(n). n is total number of records. "
   ]
  },
  {
   "cell_type": "markdown",
   "metadata": {},
   "source": [
    "##Summary"
   ]
  },
  {
   "cell_type": "markdown",
   "metadata": {},
   "source": [
    "Three models were built using some features to predict hourly entries in NYC subway. They are simple linear model, two-level regression model and non-parametric model. Their evaluation of ten time running are as following."
   ]
  },
  {
   "cell_type": "code",
   "execution_count": 11,
   "metadata": {
    "collapsed": false
   },
   "outputs": [
    {
     "data": {
      "text/html": [
       "<div>\n",
       "<table border=\"1\" class=\"dataframe\">\n",
       "  <thead>\n",
       "    <tr style=\"text-align: right;\">\n",
       "      <th></th>\n",
       "      <th>R2 linear</th>\n",
       "      <th>R2 nonparametric</th>\n",
       "      <th>R2 two level</th>\n",
       "      <th>SSE linear</th>\n",
       "      <th>SSE nonparametric</th>\n",
       "      <th>SSE two level</th>\n",
       "    </tr>\n",
       "  </thead>\n",
       "  <tbody>\n",
       "    <tr>\n",
       "      <th>Split 1</th>\n",
       "      <td>0.449409</td>\n",
       "      <td>0.700920</td>\n",
       "      <td>0.817157</td>\n",
       "      <td>4.034806e+10</td>\n",
       "      <td>2.191702e+10</td>\n",
       "      <td>1.339901e+10</td>\n",
       "    </tr>\n",
       "    <tr>\n",
       "      <th>Split 2</th>\n",
       "      <td>0.460348</td>\n",
       "      <td>0.696894</td>\n",
       "      <td>0.820953</td>\n",
       "      <td>4.171109e+10</td>\n",
       "      <td>2.342783e+10</td>\n",
       "      <td>1.383897e+10</td>\n",
       "    </tr>\n",
       "    <tr>\n",
       "      <th>Split 3</th>\n",
       "      <td>0.461814</td>\n",
       "      <td>0.708022</td>\n",
       "      <td>0.816511</td>\n",
       "      <td>3.805069e+10</td>\n",
       "      <td>2.064336e+10</td>\n",
       "      <td>1.297302e+10</td>\n",
       "    </tr>\n",
       "    <tr>\n",
       "      <th>Split 4</th>\n",
       "      <td>0.476292</td>\n",
       "      <td>0.737757</td>\n",
       "      <td>0.830483</td>\n",
       "      <td>3.684264e+10</td>\n",
       "      <td>1.844867e+10</td>\n",
       "      <td>1.192542e+10</td>\n",
       "    </tr>\n",
       "    <tr>\n",
       "      <th>Split 5</th>\n",
       "      <td>0.475035</td>\n",
       "      <td>0.693565</td>\n",
       "      <td>0.803224</td>\n",
       "      <td>3.509954e+10</td>\n",
       "      <td>2.048846e+10</td>\n",
       "      <td>1.315661e+10</td>\n",
       "    </tr>\n",
       "    <tr>\n",
       "      <th>Split 6</th>\n",
       "      <td>0.478278</td>\n",
       "      <td>0.705190</td>\n",
       "      <td>0.808760</td>\n",
       "      <td>3.723477e+10</td>\n",
       "      <td>2.104030e+10</td>\n",
       "      <td>1.364861e+10</td>\n",
       "    </tr>\n",
       "    <tr>\n",
       "      <th>Split 7</th>\n",
       "      <td>0.476797</td>\n",
       "      <td>0.713586</td>\n",
       "      <td>0.820871</td>\n",
       "      <td>3.654771e+10</td>\n",
       "      <td>2.000709e+10</td>\n",
       "      <td>1.251284e+10</td>\n",
       "    </tr>\n",
       "    <tr>\n",
       "      <th>Split 8</th>\n",
       "      <td>0.461099</td>\n",
       "      <td>0.726785</td>\n",
       "      <td>0.826439</td>\n",
       "      <td>3.802906e+10</td>\n",
       "      <td>1.928017e+10</td>\n",
       "      <td>1.224785e+10</td>\n",
       "    </tr>\n",
       "    <tr>\n",
       "      <th>Split 9</th>\n",
       "      <td>0.471692</td>\n",
       "      <td>0.727459</td>\n",
       "      <td>0.835426</td>\n",
       "      <td>3.532065e+10</td>\n",
       "      <td>1.822107e+10</td>\n",
       "      <td>1.100280e+10</td>\n",
       "    </tr>\n",
       "    <tr>\n",
       "      <th>Split 10</th>\n",
       "      <td>0.476226</td>\n",
       "      <td>0.701547</td>\n",
       "      <td>0.797347</td>\n",
       "      <td>3.865352e+10</td>\n",
       "      <td>2.202527e+10</td>\n",
       "      <td>1.495539e+10</td>\n",
       "    </tr>\n",
       "  </tbody>\n",
       "</table>\n",
       "</div>"
      ],
      "text/plain": [
       "          R2 linear  R2 nonparametric  R2 two level    SSE linear  \\\n",
       "Split 1    0.449409          0.700920      0.817157  4.034806e+10   \n",
       "Split 2    0.460348          0.696894      0.820953  4.171109e+10   \n",
       "Split 3    0.461814          0.708022      0.816511  3.805069e+10   \n",
       "Split 4    0.476292          0.737757      0.830483  3.684264e+10   \n",
       "Split 5    0.475035          0.693565      0.803224  3.509954e+10   \n",
       "Split 6    0.478278          0.705190      0.808760  3.723477e+10   \n",
       "Split 7    0.476797          0.713586      0.820871  3.654771e+10   \n",
       "Split 8    0.461099          0.726785      0.826439  3.802906e+10   \n",
       "Split 9    0.471692          0.727459      0.835426  3.532065e+10   \n",
       "Split 10   0.476226          0.701547      0.797347  3.865352e+10   \n",
       "\n",
       "          SSE nonparametric  SSE two level  \n",
       "Split 1        2.191702e+10   1.339901e+10  \n",
       "Split 2        2.342783e+10   1.383897e+10  \n",
       "Split 3        2.064336e+10   1.297302e+10  \n",
       "Split 4        1.844867e+10   1.192542e+10  \n",
       "Split 5        2.048846e+10   1.315661e+10  \n",
       "Split 6        2.104030e+10   1.364861e+10  \n",
       "Split 7        2.000709e+10   1.251284e+10  \n",
       "Split 8        1.928017e+10   1.224785e+10  \n",
       "Split 9        1.822107e+10   1.100280e+10  \n",
       "Split 10       2.202527e+10   1.495539e+10  "
      ]
     },
     "execution_count": 11,
     "metadata": {},
     "output_type": "execute_result"
    }
   ],
   "source": [
    "import summary\n",
    "\n",
    "#uncomment following line to get 10 splitting results\n",
    "#summary.run_for(10)\n",
    "\n",
    "summary.load_result()"
   ]
  },
  {
   "cell_type": "markdown",
   "metadata": {},
   "source": [
    "As we can see from the result, two-level regression model performs better than other two models. And computational complexity of nonparametric model is greater than other two models. "
   ]
  },
  {
   "cell_type": "markdown",
   "metadata": {},
   "source": [
    "##Possible further improvements of models"
   ]
  },
  {
   "cell_type": "markdown",
   "metadata": {},
   "source": [
    "1, The features and parameters of all three model can be tuned to achieve better performance. "
   ]
  },
  {
   "cell_type": "markdown",
   "metadata": {},
   "source": [
    "2, The two-level regression model only consider time as level one features. I think the performance will be better if the locations are considered in the model not only as a level indicator but also as a numerical variable. "
   ]
  },
  {
   "cell_type": "markdown",
   "metadata": {},
   "source": [
    "3, The output of nonparametric model should be calculated in a more sophiscated way instead of simple average. Such ways include fitting a curve or training a small linear model based on k records."
   ]
  },
  {
   "cell_type": "markdown",
   "metadata": {},
   "source": [
    "4, More non-linearity would bring better performance. Since the hourly_entries is a number related to some measure of physical world. There will be some restrictions on this value. And predicting the value may consider these resitrictions as well.  "
   ]
  }
 ],
 "metadata": {
  "kernelspec": {
   "display_name": "Python 2",
   "language": "python",
   "name": "python2"
  },
  "language_info": {
   "codemirror_mode": {
    "name": "ipython",
    "version": 2
   },
   "file_extension": ".py",
   "mimetype": "text/x-python",
   "name": "python",
   "nbconvert_exporter": "python",
   "pygments_lexer": "ipython2",
   "version": "2.7.10"
  }
 },
 "nbformat": 4,
 "nbformat_minor": 0
}

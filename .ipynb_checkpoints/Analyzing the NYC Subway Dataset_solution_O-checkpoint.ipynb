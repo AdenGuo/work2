{
 "metadata": {
  "name": "",
  "signature": "sha256:7c9670d4ae7942a5592eeab5a7063a3eaaebc3c23b5701f83f138a2ca3f427ac"
 },
 "nbformat": 3,
 "nbformat_minor": 0,
 "worksheets": [
  {
   "cells": [
    {
     "cell_type": "markdown",
     "metadata": {},
     "source": [
      "Analyzing the NYC Subway Dataset"
     ]
    },
    {
     "cell_type": "markdown",
     "metadata": {},
     "source": [
      "Section 0. References"
     ]
    },
    {
     "cell_type": "markdown",
     "metadata": {},
     "source": [
      "Section 1. Statistical Test"
     ]
    },
    {
     "cell_type": "markdown",
     "metadata": {},
     "source": [
      "1.1 Which statistical test did you use to analyze the NYC subway data? Did you use a one-tail or a two-tail P value? What is the null hypothesis? What is your p-critical value?"
     ]
    },
    {
     "cell_type": "markdown",
     "metadata": {},
     "source": [
      "I used Mann-Whitney U-statistic to compare the number of entries with rain and the number of entries without rain. I used a two-tail P value. The null hypothesis is there are no difference of number of entries of subway in days with rain and without rain. This null hypothesis is for general population which is all the subway in New York. My p-critical value is 0.05. "
     ]
    },
    {
     "cell_type": "markdown",
     "metadata": {},
     "source": [
      "1.2 Why is this statistical test applicable to the dataset? In particular, consider the assumptions that the test is making about the distribution of ridership in the two samples."
     ]
    },
    {
     "cell_type": "markdown",
     "metadata": {},
     "source": [
      "Because Mann-Whitney U-statistic belongs to tests which is applicable to no-parametric distribution. I have plot the distribution of numbers of entries. For my best knowledge, this shape cannot generated from a statistical model with parameters. The Mann-Whitney U-statistic is suitable for test if two samples are generated from the same no-parametric distribution."
     ]
    },
    {
     "cell_type": "markdown",
     "metadata": {},
     "source": [
      "1.3 What results did you get from this statistical test? These should include the following numerical values: p-values, as well as the means for each of the two samples under test."
     ]
    },
    {
     "cell_type": "markdown",
     "metadata": {},
     "source": [
      "The average number of entries in rainy day is 1105.45 and day without rain is 1090.278780151855. P-value for Mann-Whitney U-statistic is 0.019."
     ]
    },
    {
     "cell_type": "markdown",
     "metadata": {},
     "source": [
      "1.4 What is the significance and interpretation of these results?"
     ]
    },
    {
     "cell_type": "markdown",
     "metadata": {},
     "source": [
      "P-value for  Mann-Whitney U-statistic is 0.019 which is less than my p-critcal value. This result reject the null-hypothesis test. The entries in rainy days and days without rain are statistically different with significance. "
     ]
    },
    {
     "cell_type": "markdown",
     "metadata": {},
     "source": [
      "Section 2. Linear Regression"
     ]
    },
    {
     "cell_type": "markdown",
     "metadata": {},
     "source": [
      "2.1 What approach did you use to compute the coefficients theta and produce prediction for ENTRIESn_hourly in your regression model:,\n",
      "OLS using Statsmodels or Scikit Learn,\n",
      "Gradient descent using Scikit Learn,\n",
      "Or something different?"
     ]
    },
    {
     "cell_type": "markdown",
     "metadata": {},
     "source": [
      "I use stochastic gradient descent implemented in Scikit Learn. "
     ]
    },
    {
     "cell_type": "markdown",
     "metadata": {},
     "source": [
      "2.2 What features (input variables) did you use in your model? Did you use any dummy variables as part of your features?"
     ]
    },
    {
     "cell_type": "markdown",
     "metadata": {},
     "source": [
      "This is my features: 'rain'(rain or not), 'maxtempi'(maxim temperture),'meantempi'(average temperture), 'Hour'(time),'meanwindspdi'(average wind speed),'precipi'(precipition). I also use dummy variables created from 'UNIT'(the ID of turnstile)."
     ]
    },
    {
     "cell_type": "markdown",
     "metadata": {},
     "source": [
      "2.3 Why did you select these features in your model? We are looking for specific reasons that lead you to believe that,\n",
      "the selected features will contribute to the predictive power of your model.,\n",
      "Your reasons might be based on intuition. For example, response for fog might be: \u201cI decided to use fog because I thought that when it is very foggy outside people might decide to use the subway more often.\u201d,\n",
      "Your reasons might also be based on data exploration and experimentation, for example: \u201cI used feature X because as soon as I included it in my model, it drastically improved my R2 value.\u201d,"
     ]
    },
    {
     "cell_type": "markdown",
     "metadata": {},
     "source": [
      "I chose these features by two means. First, I select a lot number of features(more than 80% of all features) based on my intuition. I just exclude the most irrelevant features based on my intuition. For example, I exclude 'maxpressurei'(maxim pressure), because I think most people are not sensitive to pressures. Second, I use a method contin "
     ]
    },
    {
     "cell_type": "markdown",
     "metadata": {},
     "source": [
      "2.6 What does this R2 value mean for the goodness of fit for your regression model? Do you think this linear model to predict ridership is appropriate for this dataset, given this R2  value?"
     ]
    },
    {
     "cell_type": "markdown",
     "metadata": {},
     "source": [
      "R2 value that equals 0.397 means that in average 39.7% in each value(number of entries) can be explained by the regression model. The remaining 60.3% of the values may be due to other factors which are not included in the regression model. I don't think the linear model is appropriate for the dataset given this R2 value.  "
     ]
    },
    {
     "cell_type": "markdown",
     "metadata": {},
     "source": [
      "Section 3. Visualization"
     ]
    },
    {
     "cell_type": "markdown",
     "metadata": {},
     "source": [
      "3.1 One visualization should contain two histograms: one of  ENTRIESn_hourly for rainy days and one of ENTRIESn_hourly for non-rainy days.\n",
      "You can combine the two histograms in a single plot or you can use two separate plots.\n",
      "If you decide to use to two separate plots for the two histograms, please ensure that the x-axis limits for both of the plots are identical. It is much easier to compare the two in that case.\n",
      "For the histograms, you should have intervals representing the volume of ridership (value of ENTRIESn_hourly) on the x-axis and the frequency of occurrence on the y-axis. For example, each interval (along the x-axis), the height of the bar for this interval will represent the number of records (rows in our data) that have ENTRIESn_hourly that falls in this interval.\n",
      "Remember to increase the number of bins in the histogram (by having larger number of bars). The default bin width is not sufficient to capture the variability in the two samples."
     ]
    },
    {
     "cell_type": "markdown",
     "metadata": {},
     "source": [
      "<img src=\"pics/rain_norain_hist.png\">"
     ]
    },
    {
     "cell_type": "markdown",
     "metadata": {},
     "source": [
      "Because number of days without rain is more than number of days with rain. I used the probabilities instead of absolute count of number of entries. There are many 0s in both distributions. However, it is obvious that the percentage of small numbers(less than 200) of rainy days is less than that of days without rain. I think this is the main reason why the average number of entries in rainy day is bigger than that in days without rain."
     ]
    },
    {
     "cell_type": "markdown",
     "metadata": {},
     "source": [
      "3.2 One visualization can be more freeform. You should feel free to implement something that we discussed in class (e.g., scatter plots, line plots) or attempt to implement something more advanced if you'd like. Some suggestions are:\n",
      "Ridership by time-of-day\n",
      "Ridership by day-of-week"
     ]
    },
    {
     "cell_type": "markdown",
     "metadata": {},
     "source": []
    },
    {
     "cell_type": "markdown",
     "metadata": {},
     "source": [
      "Section 4. Conclusion"
     ]
    },
    {
     "cell_type": "markdown",
     "metadata": {},
     "source": [
      "4.1 From your analysis and interpretation of the data, do more people ride the NYC subway when it is raining or when it is not raining? "
     ]
    },
    {
     "cell_type": "markdown",
     "metadata": {},
     "source": [
      "In general, more people ride ride the NYC subway when it is raining"
     ]
    },
    {
     "cell_type": "markdown",
     "metadata": {},
     "source": [
      "4.2 What analyses lead you to this conclusion? You should use results from both your statistical, tests and your linear regression to support your analysis."
     ]
    },
    {
     "cell_type": "markdown",
     "metadata": {},
     "source": [
      "Section 5. Reflection"
     ]
    }
   ],
   "metadata": {}
  }
 ]
}
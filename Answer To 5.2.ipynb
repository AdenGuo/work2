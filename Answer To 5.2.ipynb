{
 "cells": [
  {
   "cell_type": "markdown",
   "metadata": {},
   "source": [
    "In this answer, three models have been build by using given data to predict hourly entries in NYC subways .\n",
    "\n",
    "The first model is a simple linear regression model.\n",
    "\n",
    "The second one is a two-level regression model.\n",
    "\n",
    "The third one is a nonparametric model."
   ]
  },
  {
   "cell_type": "markdown",
   "metadata": {},
   "source": [
    "This article is divided into 5 parts.\n",
    "\n",
    "1, Some observations and thoughts from data.\n",
    "\n",
    "2, General principles of models.\n",
    "\n",
    "3, Three models.\n",
    "\n",
    "4, Summary.\n",
    "\n",
    "5, Possible further improvement."
   ]
  },
  {
   "cell_type": "markdown",
   "metadata": {},
   "source": [
    "##Some observtions and thoughts from data"
   ]
  },
  {
   "cell_type": "markdown",
   "metadata": {},
   "source": [
    "The dataset is about ridership of NYC subways. Here is a typical record in the dataset."
   ]
  },
  {
   "cell_type": "code",
   "execution_count": 1,
   "metadata": {
    "collapsed": false
   },
   "outputs": [
    {
     "name": "stdout",
     "output_type": "stream",
     "text": [
      "Unnamed: 0                  0\n",
      "UNIT                     R001\n",
      "DATEn              2011-05-01\n",
      "TIMEn                01:00:00\n",
      "Hour                        1\n",
      "DESCn                 REGULAR\n",
      "ENTRIESn_hourly             0\n",
      "EXITSn_hourly               0\n",
      "maxpressurei            30.31\n",
      "maxdewpti                  42\n",
      "mindewpti                  35\n",
      "minpressurei            30.23\n",
      "meandewpti                 39\n",
      "meanpressurei           30.27\n",
      "fog                         0\n",
      "rain                        0\n",
      "meanwindspdi                5\n",
      "mintempi                   50\n",
      "meantempi                  60\n",
      "maxtempi                   69\n",
      "precipi                     0\n",
      "thunder                     0\n",
      "Name: 0, dtype: object\n"
     ]
    }
   ],
   "source": [
    "from linear_models import load_data\n",
    "dataframe = load_data()\n",
    "print dataframe.iloc[0]"
   ]
  },
  {
   "cell_type": "markdown",
   "metadata": {},
   "source": [
    "Following is the meaning of various data fields in this record."
   ]
  },
  {
   "cell_type": "markdown",
   "metadata": {},
   "source": [
    "Unnamed: 0: Meaningless.\n",
    "\n",
    "UNIT: Remote unit that collects turnstile information. Can collect from multiple banks of turnstiles. \n",
    "Large subway stations can have more than one unit. \n",
    "\n",
    "DATEn: Date in “yyyy-mm-dd” (2011-05-21) format. \n",
    "\n",
    "TIMEn: Time in “hh:mm:ss” (08:05:02) format. \n",
    "\n",
    "hour: Hour of the timestamp from TIMEn. Truncated rather than rounded. \n",
    "\n",
    "DEScn: Represent the \"REGULAR\" scheduled audit event (occurs every 4 hours).\n",
    "\n",
    "ENTRIESn_hourly: Difference in ENTRIES from the previous REGULAR reading. \n",
    "\n",
    "EXITSn_hourly: Difference in EXITS from the previous REGULAR reading.\n",
    "\n",
    "maxpressurei: Maximum pressure in inHg.\n",
    "\n",
    "maxdewpti: Maximum dewpoint in F.\n",
    "\n",
    "mindewpti: Minimum dewpoint in F.\n",
    "\n",
    "minpressurei: Minimum pressure in inHg.\n",
    "\n",
    "meandewpti: Mean dewpoint in F.\n",
    "\n",
    "meanpressurei: Mean pressure in inHg.\n",
    "\n",
    "fog: Indication of appearance of fog.\n",
    "\n",
    "rain: Indication of appearance of rain.\n",
    "\n",
    "meanwindspdi: Mean windspeed in mph.\n",
    "\n",
    "mintempi: Minimum temperature in F.\n",
    "\n",
    "meantempi: Mean temperature in F.\n",
    "\n",
    "maxtempi: Maximum temperature in F.\n",
    "\n",
    "precipi: Precipitation in inches.\n",
    "\n",
    "thunder: Indication of appearance of thunder."
   ]
  },
  {
   "cell_type": "markdown",
   "metadata": {},
   "source": [
    "A model should be build based on the dataset. In this model the date item \"ENTRIESn_hourly\" is the value to be predicted. This is the output of the model. The other items which represent date, time and weather conditions are the values used to predict \"ENTRIESn_hourly\". These are inputs of the model. These inputs are also called features. The centre task of model is using features to calculate output. "
   ]
  },
  {
   "cell_type": "markdown",
   "metadata": {},
   "source": [
    "Since this task is to predict numerical values. The simplest model is by unifying some features into a simple linear models. The simple linear model have following form."
   ]
  },
  {
   "cell_type": "markdown",
   "metadata": {},
   "source": [
    "\\begin{equation*}\n",
    "y=\\beta_1x_1+\\beta_2x_2+...\\beta_kx_k+\\epsilon\n",
    "\\end{equation*}"
   ]
  },
  {
   "cell_type": "markdown",
   "metadata": {
    "collapsed": true
   },
   "source": [
    "$y$ is the output. $x_1, x_2...x_k$ are the values of features. $\\beta_1, \\beta_2...\\beta_k$are so called weights or coefficients which will be determined by training process."
   ]
  },
  {
   "cell_type": "markdown",
   "metadata": {},
   "source": [
    "Assumptions are made by utlizing this simple linear model. One important assumption is independence of features. That is the change of one feature will not effect other features. However, some observations may indicate that the features may be dependent on each other. Here is the form that show some correlation between feature \"rain\" and fearure \"hour\" in a particular turnstile. The values in the form is the average \"hourly_entries\" given the \"rain\" and \"hour\"."
   ]
  }
 ],
 "metadata": {
  "kernelspec": {
   "display_name": "Python 2",
   "language": "python",
   "name": "python2"
  },
  "language_info": {
   "codemirror_mode": {
    "name": "ipython",
    "version": 2
   },
   "file_extension": ".py",
   "mimetype": "text/x-python",
   "name": "python",
   "nbconvert_exporter": "python",
   "pygments_lexer": "ipython2",
   "version": "2.7.9"
  }
 },
 "nbformat": 4,
 "nbformat_minor": 0
}
